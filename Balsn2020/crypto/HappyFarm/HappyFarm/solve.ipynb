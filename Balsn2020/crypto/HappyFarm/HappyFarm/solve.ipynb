{
 "cells": [
  {
   "cell_type": "code",
   "execution_count": 180,
   "metadata": {},
   "outputs": [],
   "source": [
    "from math import gcd"
   ]
  },
  {
   "cell_type": "markdown",
   "metadata": {},
   "source": [
    "## First"
   ]
  },
  {
   "cell_type": "code",
   "execution_count": 218,
   "metadata": {},
   "outputs": [],
   "source": [
    "data = '''\n",
    "                    9726                                     7655\n",
    "                   7c2c2b                                   49564f\n",
    "                  df06b95b9                                853255fcf\n",
    "                bdeab2 974109                            5b1fde 6a878b\n",
    "               68546b   ddc846                          be4171   cbf649\n",
    "              d4b132     925ffb                        bda4fd     727917\n",
    "             f5b5ca       b18a5e                      b73090       fd2d9b\n",
    "            813 330       e9c 997                    d0a c63       345 b3c\n",
    "           f28 108         1bd 1f2                  079 653         0ea eaf\n",
    "          1b3  3de         03e  b80                32f  b26         f12  bd6\n",
    "          aa7  b0           a3  214                a66  dc           d0  051\n",
    "         71f  d64           bef  33f              6ff  015           9b3  384\n",
    "         b67  94e           3b4  79d              bcd  0b7           522  390\n",
    "        b4a   157           5a1   b1f            68e   9f1           5ef   147\n",
    "        63b   266           241   83c            ae5   56a           446   7e5\n",
    "        20c    0e           f4    85e            973    1a           45    7ca\n",
    "        9f79   a00         e8f    d12            8674   429         e86    158\n",
    "        614c   4b8         3ce   a74             ece4   089         e5f   b27\n",
    "         c5f55  06d       d1f  2764d              48264  9d1       f77  9f1e7\n",
    "          3f373 525       caf e7ef5                0412c 42e       bb5 327c5\n",
    "             27781b225 b7e0cccc7                      7ac0d7335 4fbc9345b\n",
    "                  63a1c2473                                b2c366e35'''\n",
    "data = data.replace(' ','').replace('\\n', '')"
   ]
  },
  {
   "cell_type": "code",
   "execution_count": 219,
   "metadata": {},
   "outputs": [
    {
     "data": {
      "text/plain": [
       "'d1f56c5f52595a21f0728d655ecc9165'"
      ]
     },
     "execution_count": 219,
     "metadata": {},
     "output_type": "execute_result"
    }
   ],
   "source": [
    "iv = \"d0f56c5f52595a21f0728d655ecc9165\"\n",
    "iv = bytearray.fromhex(iv)\n",
    "iv[0] ^= 1\n",
    "iv.hex()"
   ]
  },
  {
   "cell_type": "code",
   "execution_count": 220,
   "metadata": {},
   "outputs": [
    {
     "data": {
      "text/plain": [
       "'962676557c2c2b49564fdf06b95b9853255fcfbdeab29741095b1fde6a878b68546bddc846be4171cbf649d4b132925ffbbda4fd727917f5b5cab18a5eb73090fd2d9b813330e9c997d0ac63345b3cf281081bd1f20796530eaeaf1b33de03eb8032fb26f12bd6aa7b0a3214a66dcd005171fd64bef33f6ff0159b3384b6794e3b479dbcd0b7522390b4a1575a1b1f68e9f15ef14763b26624183cae556a4467e520c0ef485e9731a457ca9f79a00e8fd128674429e86158614c4b83cea74ece4089e5fb27c5f5506dd1f2764d482649d1f779f1e73f373525cafe7ef50412c42ebb5327c527781b225b7e0cccc77ac0d73354fbc9345b63a1c2473b2c366e35'"
      ]
     },
     "execution_count": 220,
     "metadata": {},
     "output_type": "execute_result"
    }
   ],
   "source": [
    "data = bytearray.fromhex(data)\n",
    "data[0] ^= 1\n",
    "data.hex()"
   ]
  },
  {
   "cell_type": "code",
   "execution_count": 221,
   "metadata": {},
   "outputs": [],
   "source": [
    "first = '''\n",
    "                6c    47                                 fb    ac\n",
    "                 6a  bf                                   9b  0b\n",
    "                   0f                                       bd\n",
    "                  83ac                                     6dfb\n",
    "                8c2d4bb7                                 3a58b1e0\n",
    "              285d2c930186                             a5dad7a7b2da\n",
    "            e922 d9111a 4e3a                         2187 4e8048 1a2d\n",
    "          8ff10 b35  301 10039                     502d7 4a7  428 e7e84\n",
    "        0f b7   c6    17   94 98                 f4 dc   f9    8b   ef 0f\n",
    "      0c7 e4   7f      22   f1 de8             7e4 f3   5c      82   ba 31f\n",
    "     64  3c   08e      44f   e6  98           99  33   f04      138   fe  0a\n",
    "    d6  af    7c3      2ef    17  03         01  b5    963      bb4    c6  f2\n",
    "    87  d2    c3b      ef8    69  b5         b2  66    18e      9ed    97  72\n",
    "    04  10    fa3      57c    23  5a         f6  29    2c0      8b9    2b  6b\n",
    "    f6  6d    6d4      39c    30  a4         b4  c3    6ac      8b7    f8  70\n",
    "    e4  ef    626      9a5    a1  71         bb  c1    88a      c1f    88  5f\n",
    "     04  47    14      a7    c8  45           f5  9d    e4      c4    46  4f\n",
    "      d1  78    8c    0f    21  13             9d  e4    ea    e0    84  4e\n",
    "       5c  da    c4   cb   f3  6c               91  77    14   2d   2f  fa\n",
    "         ed bc4  cdf6f8  1d0 20                   d6 e7e  864ce0  3d2 72\n",
    "           324e23f0ee3a498a18                       e3ae9725bb7244b720\n",
    "              dc7dba2a6e21                             f29d716a1a9e'''\n",
    "first = first.replace(' ','').replace('\\n', '')"
   ]
  },
  {
   "cell_type": "code",
   "execution_count": 222,
   "metadata": {},
   "outputs": [
    {
     "data": {
      "text/plain": [
       "'7244b720dc7dba2a6e21f29d716a1a9e'"
      ]
     },
     "execution_count": 222,
     "metadata": {},
     "output_type": "execute_result"
    }
   ],
   "source": [
    "first[-32:]"
   ]
  },
  {
   "cell_type": "code",
   "execution_count": 223,
   "metadata": {},
   "outputs": [
    {
     "data": {
      "text/plain": [
       "'6c47fbac6abf9b0b0fbd83ac6dfb8c2d4bb73a58b1e0285d2c930186a5dad7a7b2dae922d9111a4e3a21874e80481a2d8ff10b3530110039502d74a7428e7e840fb7c6179498f4dcf98bef0f0c7e47f22f1de87e4f35c82ba31f643c08e44fe6989933f04138fe0ad6af7c32ef170301b5963bb4c6f287d2c3bef869b5b26618e9ed97720410fa357c235af6292c08b92b6bf66d6d439c30a4b4c36ac8b7f870e4ef6269a5a171bbc188ac1f885f044714a7c845f59de4c4464fd1788c0f21139de4eae0844e5cdac4cbf36c9177142d2ffaedbc4cdf6f81d020d6e7e864ce03d272324e23f0ee3a498a18e3ae9725bb7244b720dc7dba2a6e21f29d716a1a9e'"
      ]
     },
     "execution_count": 223,
     "metadata": {},
     "output_type": "execute_result"
    }
   ],
   "source": [
    "first"
   ]
  },
  {
   "cell_type": "code",
   "execution_count": 224,
   "metadata": {},
   "outputs": [
    {
     "data": {
      "text/plain": [
       "'cdd779dabff67d8d7cd0115279da94c087bc071e49bdc68cbe7968af70d75a973ae3fa7bb7fd52b37afcb0f8d7d60d329c94b3fcc583858063bc50650c16182e5d38d1bde292619d2efa000730fd74c06820c5f4df1a72e93feea1d2cece42874f176e1923da5d293c3abf77f7785ad948842538d807ce892bf8d6f58eb927db5bd690e711cca52020cea592604aee269f40fa3c68b538b7b70446d41d98e41a4cc2d76d134435bfd1adc2c2abb438e6b846dbddd7ee3e7bf001aedee2aac6548d3a9e50d4730d05dc75a76db8e94affe5844608609a1deb0b9370a424145fd2e29bed75d00f3135d677460697e5bcb0ca659bfc713a4c11138aea176e7631ec'"
      ]
     },
     "execution_count": 224,
     "metadata": {},
     "output_type": "execute_result"
    }
   ],
   "source": [
    "ans = '''\n",
    "                cd    d7                                 79    da\n",
    "                 bf  f6                                   7d  8d\n",
    "                   7c                                       d0\n",
    "                  1152                                     79da\n",
    "                94c087bc                                 071e49bd\n",
    "              c68cbe7968af                             70d75a973ae3\n",
    "            fa7b b7fd52 b37a                         fcb0 f8d7d6 0d32\n",
    "          9c94b 3fc  c58 38580                     63bc5 065  0c1 6182e\n",
    "        5d 38   d1    bd   e2 92                 61 9d   2e    fa   00 07\n",
    "      30f d7   4c      06   82 0c5             f4d f1   a7      2e   93 fee\n",
    "     a1  d2   cec      e42   87  4f           17  6e   192      3da   5d  29\n",
    "    3c  3a    bf7      7f7    78  5a         d9  48    842      538    d8  07\n",
    "    ce  89    2bf      8d6    f5  8e         b9  27    db5      bd6    90  e7\n",
    "    11  cc    a52      020    ce  a5         92  60    4ae      e26    9f  40\n",
    "    fa  3c    68b      538    b7  b7         04  46    d41      d98    e4  1a\n",
    "    4c  c2    d76      d13    44  35         bf  d1    adc      2c2    ab  b4\n",
    "     38  e6    b8      46    db  dd           d7  ee    3e      7b    f0  01\n",
    "      ae  de    e2    aa    c6  54             8d  3a    9e    50    d4  73\n",
    "       0d  05    dc   75   a7  6d               b8  e9    4a   ff   e5  84\n",
    "         46 086  09a1de  b0b 93                   70 a42  4145fd  2e2 9b\n",
    "           ed75d00f3135d67746                       0697e5bcb0ca659bfc\n",
    "              713a4c11138a                             ea176e7631ec'''\n",
    "ans.replace(' ','').replace('\\n', '')"
   ]
  },
  {
   "cell_type": "markdown",
   "metadata": {},
   "source": [
    "## Second"
   ]
  },
  {
   "cell_type": "code",
   "execution_count": 232,
   "metadata": {},
   "outputs": [],
   "source": [
    "my_seed = '''\n",
    "                    23ea\n",
    "                   a847b2\n",
    "                  19329dd29\n",
    "                0b3dfa eb8e57\n",
    "               8066b9   8aba4c\n",
    "              1b78f4     692c16\n",
    "             1d146e       435f79\n",
    "            1ed 50e       11d a1d\n",
    "           f31 798         47d 8a9\n",
    "          cdf  0e7         e48  548\n",
    "          a7a  b3           d0  da4\n",
    "         f4d  932           4f8  bf3\n",
    "         2e9  52e           5cc  bf3\n",
    "        8c9   d77           ccc   bd0\n",
    "        67e   5c4           a5a   8c6\n",
    "        cc8    e0           5f    9d6\n",
    "        9bdc   3f2         8ea    da2\n",
    "        1470   5aa         657   de3\n",
    "         f3775  b0c       1ad  5d063\n",
    "          07a04 e03       f43 17895\n",
    "             7b2fe1f71 9b0c5d0f1\n",
    "                  376cf3ffe'''\n",
    "my_seed = my_seed.replace(' ','').replace('\\n', '')\n",
    "my_seed = int(my_seed, 16)"
   ]
  },
  {
   "cell_type": "code",
   "execution_count": 237,
   "metadata": {},
   "outputs": [
    {
     "data": {
      "text/plain": [
       "40251820242378363507694648688388447328056539544701009918174501322077190695700833910728656238450787468286861478571725166759135488381403011348148945832987252467673686821320620459049746889801987057505468492160647532437597102014086955613292914703779586564382099517924524516812457098739285888755367885119148332123"
      ]
     },
     "execution_count": 237,
     "metadata": {},
     "output_type": "execute_result"
    }
   ],
   "source": [
    "first = '''\n",
    "                39    52\n",
    "                 0b  f0\n",
    "                   ea\n",
    "                  3f0b\n",
    "                9668af63\n",
    "              e5cf00d90895\n",
    "            0a1f b322df 61e2\n",
    "          29624 a32  fd7 d27a4\n",
    "        fc 73   0a    b5   d1 35\n",
    "      a56 5c   d7      f0   ed 47a\n",
    "     e2  6a   a83      09f   e6  3d\n",
    "    0f  84    242      966    cc  b3\n",
    "    72  6f    e37      785    00  16\n",
    "    02  84    723      4d9    a9  3b\n",
    "    a1  07    21e      fce    d7  b5\n",
    "    46  e8    0cf      703    db  85\n",
    "     3c  39    ab      35    2f  cb\n",
    "      89  70    93    66    ba  04\n",
    "       94  25    f7   86   b2  4f\n",
    "         46 8e2  c720bf  067 1d\n",
    "           578b5db0361c228607\n",
    "              956870e9145b'''\n",
    "first = first.replace(' ', '').replace('\\n', '')\n",
    "first = int(first, 16)\n",
    "first"
   ]
  },
  {
   "cell_type": "code",
   "execution_count": 234,
   "metadata": {},
   "outputs": [
    {
     "data": {
      "text/plain": [
       "100079031780214778131424080638630912758389174570225451789687773399313167975862077891758973806755868696597229671577537636892273887059050617058074952062427809347901006413972186541278172279108472074537509371474197851808429801227156007865905665539571995659183484387207494212921338721890393915352209818024757099617"
      ]
     },
     "execution_count": 234,
     "metadata": {},
     "output_type": "execute_result"
    }
   ],
   "source": [
    "my_seed = pow(2 , 1023*3) - my_seed\n",
    "first = pow(first, (3**8998) , my_seed )- (1 << 1023)\n",
    "gcd(my_seed, first)"
   ]
  },
  {
   "cell_type": "code",
   "execution_count": 236,
   "metadata": {},
   "outputs": [
    {
     "data": {
      "text/plain": [
       "772516528510572551970982281115850840086574352013791862700483173499950940930303851514295669452308486186471627966933872428862441900718649149787702023417181124961746810899020376137964755175807199279457209599312803097740234"
      ]
     },
     "execution_count": 236,
     "metadata": {},
     "output_type": "execute_result"
    }
   ],
   "source": [
    "eat = '''\n",
    "                8c    0f\n",
    "                 18  1b\n",
    "                   7a\n",
    "                  e7f9\n",
    "                fa87ea17\n",
    "              f81e2d9df552\n",
    "            d76c 1d6ce8 e74b\n",
    "          44faf ac2  d20 2e07b\n",
    "        13 89   0f    21   f0 7d\n",
    "      3b2 c2   f1      91   c7 633\n",
    "     cb  59   419      18c   72  ad\n",
    "    7d  18    3dc      154    c2  1f\n",
    "    3b  07    f5a      d4f    e4  a4\n",
    "    ec  28    486      ac0    f9  0a\n",
    "    05  89    f53      a81    04  5d\n",
    "    30  7b    e62      f6b    a8  8\n",
    "     55  40    03      ca\n",
    "      e8  80          34\n",
    "       16             b4\n",
    "                     cd  8\n",
    "                       b5\n",
    "                       6'''\n",
    "eat = eat.replace(' ', '').replace('\\n', '')\n",
    "eat = eat[:173] + '0' + eat[173:173+8]\n",
    "eat = int(eat, 16)\n",
    "eat"
   ]
  },
  {
   "cell_type": "code",
   "execution_count": 238,
   "metadata": {},
   "outputs": [
    {
     "data": {
      "text/plain": [
       "'8c0f181b7ae7f9fa87ea17f81e2d9df552d76c1d6ce8e74b44fafac2d202e07b13890f21f07d3b2c2f191c7633cb5941918c72ad7d183dc154c21f3b07f5ad4fe4a4ec28486ac0f90a0589f53a81045d307be62f6ba881554003ca7fc7e880fe34238a160647b49194a572ca3eccd8b486322b0daa8b8bb5b8d54cc41affc67e'"
      ]
     },
     "execution_count": 238,
     "metadata": {},
     "output_type": "execute_result"
    }
   ],
   "source": [
    "onion = 98352747555566375932638010532686418356453506836693030002491243397701425850085519813003024552292549105264019067475918074684792372213166549139989067496231327596826202405225296732406997505476712548514798125896316223750057326697205476811479738070748288713478434540989650595966619835515730097358453226724969662078\n",
    "f\"{onion:x}\""
   ]
  },
  {
   "cell_type": "markdown",
   "metadata": {},
   "source": [
    "## Third"
   ]
  },
  {
   "cell_type": "code",
   "execution_count": 211,
   "metadata": {},
   "outputs": [
    {
     "data": {
      "text/plain": [
       "'44b08f1c60ee79483578e3014421bd0775ea60338a0eac96a077f66dea09d23b6f8224c16351686e25ae2583f9e889c0f9c4edb7efc3fab24590c4bbb8db677424be10bb7243e86ce7a111ed546d84da74759ff53e73f88befa5bc036b3d3fa1543f0a107c340d0770ef94bd05fe53539cd8304ec43c3d6e6beb9de181973c0be2d182faacf7f99335c35e6fcb57f5a3d86b2f4d46ef0bda32eabab98e025feecee094dd054607caba1f16601d2e44cba2f993790c25514ebba86d81c7fe08d1477a4a7f698dd0a8b538216007e22277380c59a26caf64762e74b9659ba78a84865a7e732deefb56e6ab5b9c53f82eaa'"
      ]
     },
     "execution_count": 211,
     "metadata": {},
     "output_type": "execute_result"
    }
   ],
   "source": [
    "final = '''\n",
    "                44    b0                                 8f    1c\n",
    "                 60  ee                                   79  48\n",
    "                   35                                       78\n",
    "                  e301                                     4421\n",
    "                bd0775ea                                 60338a0e\n",
    "              ac96a077f66d                             ea09d23b6f82\n",
    "            24c1 635168 6e25                         ae25 83f9e8 89c0\n",
    "          f9c4e db7  efc 3fab2                     4590c 4bb  b8d b6774\n",
    "        24 be   10    bb   72 43                 e8 6c   e7    a1   11 ed\n",
    "      546 d8   4d      a7   47 59f             f53 e7   3f      88   be fa5\n",
    "     bc  03   6b3      d3f   a1  54           3f  0a   107      c34   0d  07\n",
    "    70  ef    94b      d05    fe  53         53  9c    d83      04e    c4  3c\n",
    "    3d  6e    6be      b9d    e1  81         97  3c    0be      2d1    82  fa\n",
    "    ac  f7    f99      335    c3  5e         6f  cb    57f      5a3    d8  6b\n",
    "    2f  4d    46e      f0b    da  32         ea  ba    b98      e02    5f  ee\n",
    "    ce  e0    94d      d05    46  07         ca  ba    1f1      660    1d  2e\n",
    "     44  cb    a2      f9    93  79           0c  25    51      4e    bb  a8\n",
    "      6d  81    c7    fe    08  d1             47  7a    4a    7f    69  8d\n",
    "       d0  a8    b5   38   21  60               07  e2    22   77   38  0c\n",
    "         59 a26  caf647  62e 74                   b9 659  ba78a8  486 5a\n",
    "           7e732deefb56e6ab5b                       9c53f82eaaxxxxxxxx\n",
    "              xxxxxxxxxxxx                             xxxxxxxxxxxx'''\n",
    "final = final.replace(' ', '').replace('\\n', '').replace('x', '')\n",
    "final"
   ]
  }
 ],
 "metadata": {
  "kernelspec": {
   "display_name": "Python 3",
   "language": "python",
   "name": "python3"
  },
  "language_info": {
   "codemirror_mode": {
    "name": "ipython",
    "version": 3
   },
   "file_extension": ".py",
   "mimetype": "text/x-python",
   "name": "python",
   "nbconvert_exporter": "python",
   "pygments_lexer": "ipython3",
   "version": "3.6.9"
  },
  "toc": {
   "base_numbering": 1,
   "nav_menu": {},
   "number_sections": true,
   "sideBar": true,
   "skip_h1_title": false,
   "title_cell": "Table of Contents",
   "title_sidebar": "Contents",
   "toc_cell": false,
   "toc_position": {},
   "toc_section_display": true,
   "toc_window_display": false
  },
  "varInspector": {
   "cols": {
    "lenName": 16,
    "lenType": 16,
    "lenVar": 40
   },
   "kernels_config": {
    "python": {
     "delete_cmd_postfix": "",
     "delete_cmd_prefix": "del ",
     "library": "var_list.py",
     "varRefreshCmd": "print(var_dic_list())"
    },
    "r": {
     "delete_cmd_postfix": ") ",
     "delete_cmd_prefix": "rm(",
     "library": "var_list.r",
     "varRefreshCmd": "cat(var_dic_list()) "
    }
   },
   "types_to_exclude": [
    "module",
    "function",
    "builtin_function_or_method",
    "instance",
    "_Feature"
   ],
   "window_display": false
  }
 },
 "nbformat": 4,
 "nbformat_minor": 4
}
